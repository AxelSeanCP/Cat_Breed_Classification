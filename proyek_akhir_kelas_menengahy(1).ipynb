{
  "cells": [
    {
      "cell_type": "markdown",
      "metadata": {
        "id": "13PWUIcbEZMl"
      },
      "source": [
        "[link dataset](https://www.kaggle.com/datasets/doctrinek/oxford-iiit-cats-extended-10k)"
      ]
    },
    {
      "cell_type": "markdown",
      "metadata": {
        "id": "Yw3Y-QkNUkmC"
      },
      "source": [
        "# Setup"
      ]
    },
    {
      "cell_type": "markdown",
      "metadata": {
        "id": "lmRClWc1UmkC"
      },
      "source": [
        "### command line"
      ]
    },
    {
      "cell_type": "code",
      "execution_count": 1,
      "metadata": {
        "colab": {
          "base_uri": "https://localhost:8080/"
        },
        "id": "_qiL9QNgOkxl",
        "outputId": "53b2239b-b065-466a-e454-69e58119aa10"
      },
      "outputs": [
        {
          "output_type": "stream",
          "name": "stdout",
          "text": [
            "Requirement already satisfied: kaggle in /usr/local/lib/python3.10/dist-packages (1.5.16)\n",
            "Requirement already satisfied: six>=1.10 in /usr/local/lib/python3.10/dist-packages (from kaggle) (1.16.0)\n",
            "Requirement already satisfied: certifi in /usr/local/lib/python3.10/dist-packages (from kaggle) (2023.11.17)\n",
            "Requirement already satisfied: python-dateutil in /usr/local/lib/python3.10/dist-packages (from kaggle) (2.8.2)\n",
            "Requirement already satisfied: requests in /usr/local/lib/python3.10/dist-packages (from kaggle) (2.31.0)\n",
            "Requirement already satisfied: tqdm in /usr/local/lib/python3.10/dist-packages (from kaggle) (4.66.1)\n",
            "Requirement already satisfied: python-slugify in /usr/local/lib/python3.10/dist-packages (from kaggle) (8.0.1)\n",
            "Requirement already satisfied: urllib3 in /usr/local/lib/python3.10/dist-packages (from kaggle) (2.0.7)\n",
            "Requirement already satisfied: bleach in /usr/local/lib/python3.10/dist-packages (from kaggle) (6.1.0)\n",
            "Requirement already satisfied: webencodings in /usr/local/lib/python3.10/dist-packages (from bleach->kaggle) (0.5.1)\n",
            "Requirement already satisfied: text-unidecode>=1.3 in /usr/local/lib/python3.10/dist-packages (from python-slugify->kaggle) (1.3)\n",
            "Requirement already satisfied: charset-normalizer<4,>=2 in /usr/local/lib/python3.10/dist-packages (from requests->kaggle) (3.3.2)\n",
            "Requirement already satisfied: idna<4,>=2.5 in /usr/local/lib/python3.10/dist-packages (from requests->kaggle) (3.6)\n",
            "Downloading oxford-iiit-cats-extended-10k.zip to /content\n",
            " 98% 977M/993M [00:13<00:00, 117MB/s]\n",
            "100% 993M/993M [00:13<00:00, 77.2MB/s]\n"
          ]
        }
      ],
      "source": [
        "# import the kaggle.json from kaggle API into colab\n",
        "# do this command\n",
        "\n",
        "# install kaggle library\n",
        "!pip install kaggle\n",
        "# make a directory named .kaggle\n",
        "!mkdir ~/.kaggle\n",
        "# copy the kaggle.json into this new directory\n",
        "!cp kaggle.json ~/.kaggle/\n",
        "# alocate the required permission for this file\n",
        "!chmod 600 ~/.kaggle/kaggle.json\n",
        "# download dataset\n",
        "!kaggle datasets download doctrinek/oxford-iiit-cats-extended-10k"
      ]
    },
    {
      "cell_type": "code",
      "execution_count": 2,
      "metadata": {
        "colab": {
          "base_uri": "https://localhost:8080/"
        },
        "id": "iatjpnfERvgp",
        "outputId": "07d45162-9e14-4e6a-a708-9c5453693014"
      },
      "outputs": [
        {
          "output_type": "stream",
          "name": "stdout",
          "text": [
            "Collecting split-folders\n",
            "  Downloading split_folders-0.5.1-py3-none-any.whl (8.4 kB)\n",
            "Installing collected packages: split-folders\n",
            "Successfully installed split-folders-0.5.1\n",
            "Requirement already satisfied: pillow in /usr/local/lib/python3.10/dist-packages (9.4.0)\n"
          ]
        }
      ],
      "source": [
        "!pip install split-folders\n",
        "!pip install pillow"
      ]
    },
    {
      "cell_type": "markdown",
      "metadata": {
        "id": "nl2qA-FeUqFO"
      },
      "source": [
        "### import libraries"
      ]
    },
    {
      "cell_type": "code",
      "execution_count": 3,
      "metadata": {
        "id": "DWDLzxfvQCIp"
      },
      "outputs": [],
      "source": [
        "import tensorflow as tf\n",
        "from tensorflow.keras.preprocessing.image import ImageDataGenerator\n",
        "#from tensorflow.keras.applications import MobileNetV2\n",
        "from tensorflow.keras.layers import Dense, Flatten, Dropout, Conv2D, MaxPooling2D, BatchNormalization\n",
        "from tensorflow.keras.regularizers import l2\n",
        "import numpy as np\n",
        "import matplotlib.pyplot as plt\n",
        "import pathlib, zipfile, os, splitfolders, datetime\n",
        "from PIL import Image"
      ]
    },
    {
      "cell_type": "markdown",
      "metadata": {
        "id": "_a0xSKajycEp"
      },
      "source": [
        "### setup tensorboard"
      ]
    },
    {
      "cell_type": "code",
      "execution_count": 4,
      "metadata": {
        "id": "U-PeImB-yZFS"
      },
      "outputs": [],
      "source": [
        "%load_ext tensorboard"
      ]
    },
    {
      "cell_type": "code",
      "execution_count": 5,
      "metadata": {
        "id": "-D-hnMsxybIC"
      },
      "outputs": [],
      "source": [
        "log_dir = \"logs/fit/\" + datetime.datetime.now().strftime(\"%Y%m%d-%H%M%S\")"
      ]
    },
    {
      "cell_type": "code",
      "execution_count": 6,
      "metadata": {
        "id": "_cq8qzcpyrUW"
      },
      "outputs": [],
      "source": [
        "!rm -rf ./logs/"
      ]
    },
    {
      "cell_type": "code",
      "execution_count": 7,
      "metadata": {
        "colab": {
          "base_uri": "https://localhost:8080/"
        },
        "id": "9YYmR1mIyucH",
        "outputId": "96e6a842-ac2e-49d7-b497-7b4579f22953"
      },
      "outputs": [
        {
          "output_type": "execute_result",
          "data": {
            "text/plain": [
              "<tensorflow.python.ops.summary_ops_v2._ResourceSummaryWriter at 0x7902ed165570>"
            ]
          },
          "metadata": {},
          "execution_count": 7
        }
      ],
      "source": [
        "tf.summary.create_file_writer(\"./logs/\")"
      ]
    },
    {
      "cell_type": "code",
      "execution_count": 8,
      "metadata": {
        "id": "wnbm5kPDyz77"
      },
      "outputs": [],
      "source": [
        "tensorboard_callback = tf.keras.callbacks.TensorBoard(log_dir=log_dir, histogram_freq=1)"
      ]
    },
    {
      "cell_type": "markdown",
      "metadata": {
        "id": "I4XL8l8NUumI"
      },
      "source": [
        "### extract zip file"
      ]
    },
    {
      "cell_type": "code",
      "execution_count": 9,
      "metadata": {
        "id": "_-WcsYp3RqH2"
      },
      "outputs": [],
      "source": [
        "zip_path = \"/content/oxford-iiit-cats-extended-10k.zip\"\n",
        "zip_read = zipfile.ZipFile(zip_path, \"r\")\n",
        "zip_read.extractall('/content/dataset')\n",
        "zip_read.close()"
      ]
    },
    {
      "cell_type": "code",
      "execution_count": 10,
      "metadata": {
        "colab": {
          "base_uri": "https://localhost:8080/"
        },
        "id": "RNMdYQvPSXqi",
        "outputId": "4f7d7b10-f2d8-49bc-93e9-fa5d9a014731"
      },
      "outputs": [
        {
          "output_type": "execute_result",
          "data": {
            "text/plain": [
              "['CatBreedsRefined-v3']"
            ]
          },
          "metadata": {},
          "execution_count": 10
        }
      ],
      "source": [
        "os.listdir('/content/dataset/')"
      ]
    },
    {
      "cell_type": "markdown",
      "metadata": {
        "id": "XRjFATa8UygV"
      },
      "source": [
        "### split into train and validation"
      ]
    },
    {
      "cell_type": "code",
      "execution_count": 11,
      "metadata": {
        "id": "c2ykm44v_qLs"
      },
      "outputs": [],
      "source": [
        "original_dir = '/content/dataset/CatBreedsRefined-v3'"
      ]
    },
    {
      "cell_type": "code",
      "execution_count": 12,
      "metadata": {
        "colab": {
          "base_uri": "https://localhost:8080/"
        },
        "id": "CcgN9EGxSeCG",
        "outputId": "41a3bfb9-ecd6-47cc-9c54-a6521c93c8af"
      },
      "outputs": [
        {
          "output_type": "stream",
          "name": "stderr",
          "text": [
            "Copying files: 10257 files [00:07, 1453.51 files/s]\n"
          ]
        }
      ],
      "source": [
        "splitfolders.ratio(original_dir, output='/content/dataset/project', seed=6969, ratio=(0.8, 0.2))\n",
        "train_dir = '/content/dataset/project/train'\n",
        "validation_dir = '/content/dataset/project/val'"
      ]
    },
    {
      "cell_type": "markdown",
      "metadata": {
        "id": "2dWMxNUWXp-A"
      },
      "source": [
        "### explore data samples"
      ]
    },
    {
      "cell_type": "code",
      "execution_count": 13,
      "metadata": {
        "colab": {
          "base_uri": "https://localhost:8080/"
        },
        "id": "kL3REqb8VNa3",
        "outputId": "865c0d73-7b42-4db5-f391-80c2d13d65f4"
      },
      "outputs": [
        {
          "output_type": "stream",
          "name": "stdout",
          "text": [
            "The train directory has 8202 samples\n",
            "The validation directory has 2055 samples\n",
            "Which in total makes it 10257 samples\n"
          ]
        }
      ],
      "source": [
        "def total_sample(directory):\n",
        "  total = 0\n",
        "  for folder in os.listdir(directory):\n",
        "    folder_path = os.path.join(directory, folder)\n",
        "    total += len(os.listdir(folder_path))\n",
        "\n",
        "  return total\n",
        "\n",
        "train_sample_length = total_sample(train_dir)\n",
        "validation_sample_length = total_sample(validation_dir)\n",
        "print(f\"The train directory has {train_sample_length} samples\")\n",
        "print(f\"The validation directory has {validation_sample_length} samples\")\n",
        "print(f\"Which in total makes it {train_sample_length + validation_sample_length} samples\")"
      ]
    },
    {
      "cell_type": "markdown",
      "metadata": {
        "id": "Rx8svLuTeDio"
      },
      "source": [
        "# Preprocess Data\n",
        "```\n",
        "rescale = 1.0/255,\n",
        "shear_range=0.2,\n",
        "zoom_range=0.2,\n",
        "width_shift_range=0.2,\n",
        "height_shift_range=0.2,\n",
        "channel_shift_range=0.2,\n",
        "horizontal_flip=True,\n",
        "fill_mode='nearest'\n",
        "```"
      ]
    },
    {
      "cell_type": "code",
      "execution_count": 29,
      "metadata": {
        "colab": {
          "base_uri": "https://localhost:8080/"
        },
        "id": "B6WhbKkYVoFs",
        "outputId": "087d0459-af58-4b11-db6a-d3fc77f3b6d7"
      },
      "outputs": [
        {
          "output_type": "stream",
          "name": "stdout",
          "text": [
            "Found 8202 images belonging to 12 classes.\n",
            "Found 2055 images belonging to 12 classes.\n"
          ]
        }
      ],
      "source": [
        "batch_size = 16\n",
        "target_size=(192,192)\n",
        "\n",
        "train_datagen = ImageDataGenerator(\n",
        "    rescale = 1.0/255,\n",
        "    shear_range=0.2,\n",
        "    zoom_range=0.2,\n",
        "    width_shift_range=0.2,\n",
        "    height_shift_range=0.2,\n",
        "    channel_shift_range=0.2,\n",
        "    horizontal_flip=True,\n",
        "    vertical_flip=True,\n",
        "    fill_mode='nearest'\n",
        ")\n",
        "\n",
        "train_generator = train_datagen.flow_from_directory(\n",
        "    train_dir,\n",
        "    class_mode='categorical',\n",
        "    target_size=target_size,\n",
        "    batch_size=batch_size\n",
        ")\n",
        "\n",
        "validation_datagen = ImageDataGenerator(\n",
        "    rescale=1.0/255\n",
        ")\n",
        "\n",
        "validation_generator = validation_datagen.flow_from_directory(\n",
        "    validation_dir,\n",
        "    class_mode='categorical',\n",
        "    target_size=target_size,\n",
        "    batch_size=batch_size\n",
        ")"
      ]
    },
    {
      "cell_type": "markdown",
      "metadata": {
        "id": "EzGiSf7mbov4"
      },
      "source": [
        "# Model Creation"
      ]
    },
    {
      "cell_type": "markdown",
      "metadata": {
        "id": "F3HAZws3dWmp"
      },
      "source": [
        "### callback function\n",
        "- stops when acc & val_acc is >= 92%\n",
        "- stops when acc / val_acc < max_acc for limit_acc epochs\n",
        "- stops when loss / val_loss > 0.75 for limit_loss epochs\n"
      ]
    },
    {
      "cell_type": "code",
      "execution_count": 15,
      "metadata": {
        "id": "dTm_OJcUdWA_"
      },
      "outputs": [],
      "source": [
        "class SantaiDuluGakSih(tf.keras.callbacks.Callback):\n",
        "  def __init__(self, sabar_acc=10, sabar_loss=10):\n",
        "    super(SantaiDuluGakSih, self).__init__()\n",
        "    self.sabar_acc = sabar_acc\n",
        "    self.sabar_loss = sabar_loss\n",
        "    self.limit_acc = sabar_acc\n",
        "    self.limit_loss = sabar_loss\n",
        "    self.max_acc = 0\n",
        "    self.max_val_acc = 0\n",
        "\n",
        "  def on_epoch_end(self, epoch, logs={}):\n",
        "    self.max_acc = logs.get('accuracy') if logs.get('accuracy') > self.max_acc else self.max_acc\n",
        "\n",
        "    self.max_val_acc = logs.get('val_accuracy') if logs.get('val_accuracy') > self.max_val_acc else self.max_val_acc\n",
        "\n",
        "    if logs.get('accuracy')>=self.max_acc and logs.get('val_accuracy')>=self.max_val_acc:\n",
        "      self.sabar_acc = self.limit_acc\n",
        "    else:\n",
        "      self.sabar_acc -= 1\n",
        "\n",
        "    if logs.get('loss')>0.75 or logs.get('val_loss')>0.75:\n",
        "      self.sabar_loss -= 1\n",
        "    else:\n",
        "      self.sabar_loss += 1\n",
        "\n",
        "    if self.sabar_acc == 0:\n",
        "      print(f\"The model accuracy has been below {self.max_acc} and {self.max_val_acc} for {self.limit_acc} epochs, Stopping training immediatly!!!\")\n",
        "      self.model.stop_training = True\n",
        "    elif self.sabar_loss == 0:\n",
        "      print(f\"The model loss has been above 75% for {self.limit_loss} epochs, Stopping training immediatly!!!\")\n",
        "      self.model.stop_training = True\n",
        "    elif logs.get('accuracy') >= 0.92 and logs.get('val_accuracy') >= 0.92:\n",
        "      print(f\"The model accuracy has reached 92%, stopping training\")\n",
        "      self.model.stop_training = True"
      ]
    },
    {
      "cell_type": "markdown",
      "metadata": {
        "id": "U_YLW4GPdKtS"
      },
      "source": [
        "### transfer learning using MobileNetV2"
      ]
    },
    {
      "cell_type": "code",
      "execution_count": 16,
      "metadata": {
        "id": "9CM9F6hok2Ey",
        "colab": {
          "base_uri": "https://localhost:8080/",
          "height": 127
        },
        "outputId": "b23438ae-3807-4926-c1f2-900d2e99a5fc"
      },
      "outputs": [
        {
          "output_type": "execute_result",
          "data": {
            "text/plain": [
              "'model = tf.keras.Sequential()\\n\\n# add mobile net as base layer\\npre_trained_model = MobileNetV2(\\n    weights=\"imagenet\",\\n    include_top=False,\\n    input_tensor=Input(shape=(224,224,3))\\n)\\n\\nfor layer in pre_trained_model.layers:\\n  layer.trainable = False\\n\\nfor layer in pre_trained_model.layers[-10:]:\\n  layer.trainable = True\\n\\nmodel.add(pre_trained_model)\\n\\n# add custom layers\\nmodel.add(Dropout(0.3))\\nmodel.add(Conv2D(72, (3,3), activation=\"relu\"))\\nmodel.add(MaxPooling2D(2,2))\\nmodel.add(Dropout(0.3))\\nmodel.add(Flatten())\\nmodel.add(Dense(512, activation=\"relu\", kernel_regularizer=tf.keras.regularizers.l2(0.001)))\\nmodel.add(Dense(64, activation=\"relu\"))\\nmodel.add(Dense(12, activation=\"softmax\"))\\n\\nmodel.summary()'"
            ],
            "application/vnd.google.colaboratory.intrinsic+json": {
              "type": "string"
            }
          },
          "metadata": {},
          "execution_count": 16
        }
      ],
      "source": [
        "\"\"\"model = tf.keras.Sequential()\n",
        "\n",
        "# add mobile net as base layer\n",
        "pre_trained_model = MobileNetV2(\n",
        "    weights=\"imagenet\",\n",
        "    include_top=False,\n",
        "    input_tensor=Input(shape=(224,224,3))\n",
        ")\n",
        "\n",
        "for layer in pre_trained_model.layers:\n",
        "  layer.trainable = False\n",
        "\n",
        "for layer in pre_trained_model.layers[-10:]:\n",
        "  layer.trainable = True\n",
        "\n",
        "model.add(pre_trained_model)\n",
        "\n",
        "# add custom layers\n",
        "model.add(Dropout(0.3))\n",
        "model.add(Conv2D(72, (3,3), activation=\"relu\"))\n",
        "model.add(MaxPooling2D(2,2))\n",
        "model.add(Dropout(0.3))\n",
        "model.add(Flatten())\n",
        "model.add(Dense(512, activation=\"relu\", kernel_regularizer=tf.keras.regularizers.l2(0.001)))\n",
        "model.add(Dense(64, activation=\"relu\"))\n",
        "model.add(Dense(12, activation=\"softmax\"))\n",
        "\n",
        "model.summary()\"\"\""
      ]
    },
    {
      "cell_type": "code",
      "source": [
        "do = 0.3\n",
        "model = tf.keras.models.Sequential([\n",
        "    Conv2D(128, (3,3), activation=\"relu\", input_shape=(192,192,3)),\n",
        "    MaxPooling2D(2,2),\n",
        "    Conv2D(32, (3,3), activation=\"relu\"),\n",
        "    MaxPooling2D(2,2),\n",
        "    Dropout(do),\n",
        "    Conv2D(128, (3,3), activation=\"relu\"),\n",
        "    MaxPooling2D(2,2),\n",
        "    Conv2D(32, (3,3), activation=\"relu\"),\n",
        "    MaxPooling2D(2,2),\n",
        "    Dropout(do),\n",
        "    Flatten(),\n",
        "    Dense(256, activation=\"relu\"),\n",
        "    Dense(64, activation=\"relu\"),\n",
        "    Dense(12, activation=\"softmax\")\n",
        "])\n",
        "\n",
        "model.summary()"
      ],
      "metadata": {
        "colab": {
          "base_uri": "https://localhost:8080/"
        },
        "id": "OYIh9tLJ67cT",
        "outputId": "b12dd143-0872-4f25-cb0c-8f6a26a67827"
      },
      "execution_count": 42,
      "outputs": [
        {
          "output_type": "stream",
          "name": "stdout",
          "text": [
            "Model: \"sequential_8\"\n",
            "_________________________________________________________________\n",
            " Layer (type)                Output Shape              Param #   \n",
            "=================================================================\n",
            " conv2d_32 (Conv2D)          (None, 190, 190, 128)     3584      \n",
            "                                                                 \n",
            " max_pooling2d_32 (MaxPooli  (None, 95, 95, 128)       0         \n",
            " ng2D)                                                           \n",
            "                                                                 \n",
            " conv2d_33 (Conv2D)          (None, 93, 93, 32)        36896     \n",
            "                                                                 \n",
            " max_pooling2d_33 (MaxPooli  (None, 46, 46, 32)        0         \n",
            " ng2D)                                                           \n",
            "                                                                 \n",
            " dropout_12 (Dropout)        (None, 46, 46, 32)        0         \n",
            "                                                                 \n",
            " conv2d_34 (Conv2D)          (None, 44, 44, 128)       36992     \n",
            "                                                                 \n",
            " max_pooling2d_34 (MaxPooli  (None, 22, 22, 128)       0         \n",
            " ng2D)                                                           \n",
            "                                                                 \n",
            " conv2d_35 (Conv2D)          (None, 20, 20, 32)        36896     \n",
            "                                                                 \n",
            " max_pooling2d_35 (MaxPooli  (None, 10, 10, 32)        0         \n",
            " ng2D)                                                           \n",
            "                                                                 \n",
            " dropout_13 (Dropout)        (None, 10, 10, 32)        0         \n",
            "                                                                 \n",
            " flatten_8 (Flatten)         (None, 3200)              0         \n",
            "                                                                 \n",
            " dense_25 (Dense)            (None, 256)               819456    \n",
            "                                                                 \n",
            " dense_26 (Dense)            (None, 64)                16448     \n",
            "                                                                 \n",
            " dense_27 (Dense)            (None, 12)                780       \n",
            "                                                                 \n",
            "=================================================================\n",
            "Total params: 951052 (3.63 MB)\n",
            "Trainable params: 951052 (3.63 MB)\n",
            "Non-trainable params: 0 (0.00 Byte)\n",
            "_________________________________________________________________\n"
          ]
        }
      ]
    },
    {
      "cell_type": "code",
      "execution_count": 43,
      "metadata": {
        "id": "_IkwdaHMoy6X"
      },
      "outputs": [],
      "source": [
        "int_lr = 1e-2\n",
        "#lr_schedule = tf.keras.optimizers.schedules.ExponentialDecay(initial_learning_rate=int_lr, decay_steps=500, decay_rate=0.5)\n",
        "model.compile(\n",
        "    optimizer=tf.optimizers.Adam(learning_rate=int_lr),\n",
        "    loss='categorical_crossentropy',\n",
        "    metrics=['accuracy']\n",
        ")"
      ]
    },
    {
      "cell_type": "code",
      "execution_count": null,
      "metadata": {
        "colab": {
          "base_uri": "https://localhost:8080/"
        },
        "id": "ucMB_aTnpIa5",
        "outputId": "71044e52-da6b-424f-df50-01eab36340ad"
      },
      "outputs": [
        {
          "output_type": "stream",
          "name": "stdout",
          "text": [
            "Epoch 1/20\n",
            "513/513 - 162s - loss: 2.8060 - accuracy: 0.0813 - val_loss: 2.4858 - val_accuracy: 0.0847 - 162s/epoch - 317ms/step\n",
            "Epoch 2/20\n",
            "513/513 - 158s - loss: 2.4871 - accuracy: 0.0817 - val_loss: 2.4861 - val_accuracy: 0.0832 - 158s/epoch - 309ms/step\n",
            "Epoch 3/20\n"
          ]
        }
      ],
      "source": [
        "berhenti_bang = SantaiDuluGakSih(sabar_acc=4, sabar_loss=10)\n",
        "modelku = model.fit(\n",
        "    train_generator,\n",
        "    epochs=20,\n",
        "    validation_data=validation_generator,\n",
        "    callbacks=[berhenti_bang, tensorboard_callback],\n",
        "    verbose=2\n",
        ")"
      ]
    },
    {
      "cell_type": "markdown",
      "metadata": {
        "id": "AGV4AzYhxix0"
      },
      "source": [
        "# Model evaluation"
      ]
    },
    {
      "cell_type": "markdown",
      "metadata": {
        "id": "mQMS5ICNxoHF"
      },
      "source": [
        "### plot loss and accuracy"
      ]
    },
    {
      "cell_type": "code",
      "execution_count": null,
      "metadata": {
        "id": "nX2b89Obn8JL"
      },
      "outputs": [],
      "source": [
        "# plot loss\n",
        "plt.plot(modelku.history['loss'])\n",
        "plt.plot(modelku.history['val_loss'])\n",
        "plt.title('Model loss')\n",
        "plt.ylabel('Loss')\n",
        "plt.xlabel('Epoch')\n",
        "plt.legend(['Train', 'Validation'], loc='upper right')\n",
        "plt.show()\n",
        "\n",
        "# plot acc\n",
        "plt.plot(modelku.history['accuracy'])\n",
        "plt.plot(modelku.history['val_accuracy'])\n",
        "plt.title('Model accuracy')\n",
        "plt.ylabel('Accuracy')\n",
        "plt.xlabel('Epoch')\n",
        "plt.legend(['Train', 'Validation'], loc='lower right')\n",
        "plt.show()"
      ]
    },
    {
      "cell_type": "markdown",
      "metadata": {
        "id": "A0Dj5IxszEjv"
      },
      "source": [
        "### show tensorboard"
      ]
    },
    {
      "cell_type": "code",
      "execution_count": null,
      "metadata": {
        "id": "PlacXB4qzF60"
      },
      "outputs": [],
      "source": [
        "%tensorboard --logdir logs/fit"
      ]
    },
    {
      "cell_type": "markdown",
      "metadata": {
        "id": "Kb0__Uks1Bx2"
      },
      "source": [
        "# Save model"
      ]
    },
    {
      "cell_type": "code",
      "execution_count": null,
      "metadata": {
        "id": "QfvqLlNL1DcN"
      },
      "outputs": [],
      "source": [
        "# menyimpan model dalam format saved model\n",
        "export_dir = 'saved_model/'\n",
        "tf.saved_model.save(model, export_dir)\n",
        "\n",
        "# convert SavedModel menjadi vegs.tflite\n",
        "converter = tf.lite.TFLiteConverter.from_saved_model(export_dir)\n",
        "tflite_model = converter.convert()\n",
        "\n",
        "tflite_model_file = pathlib.Path('vegs.tflite')\n",
        "tflite_model_file.write_bytes(tflite_model)"
      ]
    }
  ],
  "metadata": {
    "colab": {
      "provenance": [],
      "gpuType": "T4"
    },
    "kernelspec": {
      "display_name": "Python 3",
      "name": "python3"
    },
    "language_info": {
      "name": "python"
    },
    "accelerator": "GPU"
  },
  "nbformat": 4,
  "nbformat_minor": 0
}