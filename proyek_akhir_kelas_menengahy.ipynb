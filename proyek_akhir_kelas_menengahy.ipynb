{
  "nbformat": 4,
  "nbformat_minor": 0,
  "metadata": {
    "colab": {
      "provenance": []
    },
    "kernelspec": {
      "name": "python3",
      "display_name": "Python 3"
    },
    "language_info": {
      "name": "python"
    }
  },
  "cells": [
    {
      "cell_type": "markdown",
      "source": [
        "# Setup"
      ],
      "metadata": {
        "id": "Yw3Y-QkNUkmC"
      }
    },
    {
      "cell_type": "markdown",
      "source": [
        "### command line"
      ],
      "metadata": {
        "id": "lmRClWc1UmkC"
      }
    },
    {
      "cell_type": "code",
      "execution_count": 1,
      "metadata": {
        "colab": {
          "base_uri": "https://localhost:8080/"
        },
        "id": "_qiL9QNgOkxl",
        "outputId": "ba7f6280-10cf-4ad5-b181-103c17005890"
      },
      "outputs": [
        {
          "output_type": "stream",
          "name": "stdout",
          "text": [
            "Requirement already satisfied: kaggle in /usr/local/lib/python3.10/dist-packages (1.5.16)\n",
            "Requirement already satisfied: six>=1.10 in /usr/local/lib/python3.10/dist-packages (from kaggle) (1.16.0)\n",
            "Requirement already satisfied: certifi in /usr/local/lib/python3.10/dist-packages (from kaggle) (2023.11.17)\n",
            "Requirement already satisfied: python-dateutil in /usr/local/lib/python3.10/dist-packages (from kaggle) (2.8.2)\n",
            "Requirement already satisfied: requests in /usr/local/lib/python3.10/dist-packages (from kaggle) (2.31.0)\n",
            "Requirement already satisfied: tqdm in /usr/local/lib/python3.10/dist-packages (from kaggle) (4.66.1)\n",
            "Requirement already satisfied: python-slugify in /usr/local/lib/python3.10/dist-packages (from kaggle) (8.0.1)\n",
            "Requirement already satisfied: urllib3 in /usr/local/lib/python3.10/dist-packages (from kaggle) (2.0.7)\n",
            "Requirement already satisfied: bleach in /usr/local/lib/python3.10/dist-packages (from kaggle) (6.1.0)\n",
            "Requirement already satisfied: webencodings in /usr/local/lib/python3.10/dist-packages (from bleach->kaggle) (0.5.1)\n",
            "Requirement already satisfied: text-unidecode>=1.3 in /usr/local/lib/python3.10/dist-packages (from python-slugify->kaggle) (1.3)\n",
            "Requirement already satisfied: charset-normalizer<4,>=2 in /usr/local/lib/python3.10/dist-packages (from requests->kaggle) (3.3.2)\n",
            "Requirement already satisfied: idna<4,>=2.5 in /usr/local/lib/python3.10/dist-packages (from requests->kaggle) (3.6)\n",
            "Downloading oxford-iiit-cats-extended-10k.zip to /content\n",
            "100% 993M/993M [00:10<00:00, 147MB/s]\n",
            "100% 993M/993M [00:10<00:00, 102MB/s]\n"
          ]
        }
      ],
      "source": [
        "# import the kaggle.json from kaggle API into colab\n",
        "# do this command\n",
        "# install kaggle library\n",
        "!pip install kaggle\n",
        "# make a directory named .kaggle\n",
        "!mkdir ~/.kaggle\n",
        "# copy the kaggle.json into this new directory\n",
        "!cp kaggle.json ~/.kaggle/\n",
        "# alocate the required permission for this file\n",
        "!chmod 600 ~/.kaggle/kaggle.json\n",
        "# download dataset\n",
        "!kaggle datasets download doctrinek/oxford-iiit-cats-extended-10k"
      ]
    },
    {
      "cell_type": "code",
      "source": [
        "!pip install split-folders"
      ],
      "metadata": {
        "colab": {
          "base_uri": "https://localhost:8080/"
        },
        "id": "iatjpnfERvgp",
        "outputId": "eda156ee-5d39-44fd-ed2a-83abb71dc411"
      },
      "execution_count": 3,
      "outputs": [
        {
          "output_type": "stream",
          "name": "stdout",
          "text": [
            "Collecting split-folders\n",
            "  Downloading split_folders-0.5.1-py3-none-any.whl (8.4 kB)\n",
            "Installing collected packages: split-folders\n",
            "Successfully installed split-folders-0.5.1\n"
          ]
        }
      ]
    },
    {
      "cell_type": "markdown",
      "source": [
        "### import libraries"
      ],
      "metadata": {
        "id": "nl2qA-FeUqFO"
      }
    },
    {
      "cell_type": "code",
      "source": [
        "import tensorflow as tf\n",
        "from tensorflow.keras.preprocessing.image import ImageDataGenerator\n",
        "from tensorflow.keras.applications import MobileNetV2\n",
        "from tensorflow.keras.layers import Dense, Flatten, Dropout, Conv2D, MaxPooling2D\n",
        "import numpy as np\n",
        "import matplotlib.pyplot as plt\n",
        "import pathlib, zipfile, os, splitfolders"
      ],
      "metadata": {
        "id": "DWDLzxfvQCIp"
      },
      "execution_count": 16,
      "outputs": []
    },
    {
      "cell_type": "markdown",
      "source": [
        "### extract zip file"
      ],
      "metadata": {
        "id": "I4XL8l8NUumI"
      }
    },
    {
      "cell_type": "code",
      "source": [
        "zip_path = \"/content/oxford-iiit-cats-extended-10k.zip\"\n",
        "zip_read = zipfile.ZipFile(zip_path, \"r\")\n",
        "zip_read.extractall('/content/dataset')\n",
        "zip_read.close()"
      ],
      "metadata": {
        "id": "_-WcsYp3RqH2"
      },
      "execution_count": 5,
      "outputs": []
    },
    {
      "cell_type": "code",
      "source": [
        "os.listdir('/content/dataset/')"
      ],
      "metadata": {
        "colab": {
          "base_uri": "https://localhost:8080/"
        },
        "id": "RNMdYQvPSXqi",
        "outputId": "75edccc1-d11a-426b-f981-a26525bd2d58"
      },
      "execution_count": 8,
      "outputs": [
        {
          "output_type": "execute_result",
          "data": {
            "text/plain": [
              "['CatBreedsRefined-v3']"
            ]
          },
          "metadata": {},
          "execution_count": 8
        }
      ]
    },
    {
      "cell_type": "markdown",
      "source": [
        "### split into train and validation"
      ],
      "metadata": {
        "id": "XRjFATa8UygV"
      }
    },
    {
      "cell_type": "code",
      "source": [
        "base_dir = '/content/dataset/CatBreedsRefined-v3'\n",
        "splitfolders.ratio(base_dir, output='/content/dataset/project', seed=6969, ratio=(0.8, 0.2))\n",
        "train_dir = '/content/dataset/project/train'\n",
        "validation_dir = '/content/dataset/project/val'"
      ],
      "metadata": {
        "colab": {
          "base_uri": "https://localhost:8080/"
        },
        "id": "CcgN9EGxSeCG",
        "outputId": "7dbec9d0-2287-409a-a834-c955edd33bc3"
      },
      "execution_count": 10,
      "outputs": [
        {
          "output_type": "stream",
          "name": "stderr",
          "text": [
            "\n",
            "Copying files: 0 files [00:00, ? files/s]\u001b[A\n",
            "Copying files: 249 files [00:00, 2486.14 files/s]\u001b[A\n",
            "Copying files: 516 files [00:00, 2589.77 files/s]\u001b[A\n",
            "Copying files: 775 files [00:00, 2543.45 files/s]\u001b[A\n",
            "Copying files: 1030 files [00:00, 2452.33 files/s]\u001b[A\n",
            "Copying files: 1276 files [00:00, 2378.79 files/s]\u001b[A\n",
            "Copying files: 1515 files [00:00, 2219.48 files/s]\u001b[A\n",
            "Copying files: 1739 files [00:00, 1917.02 files/s]\u001b[A\n",
            "Copying files: 1938 files [00:00, 1683.65 files/s]\u001b[A\n",
            "Copying files: 2114 files [00:01, 1517.67 files/s]\u001b[A\n",
            "Copying files: 2273 files [00:01, 1388.75 files/s]\u001b[A\n",
            "Copying files: 2417 files [00:01, 1382.81 files/s]\u001b[A\n",
            "Copying files: 2576 files [00:01, 1370.48 files/s]\u001b[A\n",
            "Copying files: 2749 files [00:01, 1462.38 files/s]\u001b[A\n",
            "Copying files: 2945 files [00:01, 1595.11 files/s]\u001b[A\n",
            "Copying files: 3109 files [00:01, 1523.04 files/s]\u001b[A\n",
            "Copying files: 3265 files [00:01, 1515.05 files/s]\u001b[A\n",
            "Copying files: 3424 files [00:02, 1532.46 files/s]\u001b[A\n",
            "Copying files: 3579 files [00:02, 1489.95 files/s]\u001b[A\n",
            "Copying files: 3730 files [00:02, 1335.47 files/s]\u001b[A\n",
            "Copying files: 3867 files [00:02, 1319.20 files/s]\u001b[A\n",
            "Copying files: 4002 files [00:02, 1279.60 files/s]\u001b[A\n",
            "Copying files: 4132 files [00:02, 1258.65 files/s]\u001b[A\n",
            "Copying files: 4259 files [00:02, 1221.24 files/s]\u001b[A\n",
            "Copying files: 4399 files [00:02, 1269.88 files/s]\u001b[A\n",
            "Copying files: 4584 files [00:02, 1432.60 files/s]\u001b[A\n",
            "Copying files: 4796 files [00:02, 1628.59 files/s]\u001b[A\n",
            "Copying files: 5050 files [00:03, 1892.41 files/s]\u001b[A\n",
            "Copying files: 5242 files [00:03, 1710.19 files/s]\u001b[A\n",
            "Copying files: 5433 files [00:03, 1744.41 files/s]\u001b[A\n",
            "Copying files: 5611 files [00:05, 317.19 files/s] \u001b[A\n",
            "Copying files: 5817 files [00:05, 434.21 files/s]\u001b[A\n",
            "Copying files: 5981 files [00:05, 537.97 files/s]\u001b[A\n",
            "Copying files: 6135 files [00:05, 559.02 files/s]\u001b[A\n",
            "Copying files: 6303 files [00:05, 693.51 files/s]\u001b[A\n",
            "Copying files: 6442 files [00:05, 792.78 files/s]\u001b[A\n",
            "Copying files: 6606 files [00:05, 929.94 files/s]\u001b[A\n",
            "Copying files: 6785 files [00:05, 1072.00 files/s]\u001b[A\n",
            "Copying files: 6951 files [00:06, 1194.88 files/s]\u001b[A\n",
            "Copying files: 7104 files [00:06, 973.25 files/s] \u001b[A\n",
            "Copying files: 7245 files [00:06, 1062.12 files/s]\u001b[A\n",
            "Copying files: 7403 files [00:06, 1177.76 files/s]\u001b[A\n",
            "Copying files: 7568 files [00:06, 1287.51 files/s]\u001b[A\n",
            "Copying files: 7808 files [00:06, 1573.01 files/s]\u001b[A\n",
            "Copying files: 8116 files [00:06, 1971.79 files/s]\u001b[A\n",
            "Copying files: 8501 files [00:06, 2484.62 files/s]\u001b[A\n",
            "Copying files: 8765 files [00:06, 2521.06 files/s]\u001b[A\n",
            "Copying files: 9028 files [00:07, 2317.26 files/s]\u001b[A\n",
            "Copying files: 9271 files [00:07, 2136.65 files/s]\u001b[A\n",
            "Copying files: 9495 files [00:07, 1963.26 files/s]\u001b[A\n",
            "Copying files: 9759 files [00:07, 2132.69 files/s]\u001b[A\n",
            "Copying files: 9986 files [00:07, 2168.25 files/s]\u001b[A\n",
            "Copying files: 10257 files [00:10, 1008.77 files/s]\n"
          ]
        }
      ]
    },
    {
      "cell_type": "markdown",
      "source": [
        "### explore data samples"
      ],
      "metadata": {
        "id": "2dWMxNUWXp-A"
      }
    },
    {
      "cell_type": "code",
      "source": [
        "def total_sample(directory):\n",
        "  total = 0\n",
        "  for folder in os.listdir(directory):\n",
        "    folder_path = os.path.join(directory, folder)\n",
        "    total += len(os.listdir(folder_path))\n",
        "\n",
        "  return total\n",
        "\n",
        "train_sample_length = total_sample(train_dir)\n",
        "validation_sample_length = total_sample(validation_dir)\n",
        "print(f\"The train directory has {train_sample_length} samples\")\n",
        "print(f\"The validation directory has {validation_sample_length} samples\")\n",
        "print(f\"Which in total makes it {train_sample_length + validation_sample_length} samples\")"
      ],
      "metadata": {
        "colab": {
          "base_uri": "https://localhost:8080/"
        },
        "id": "kL3REqb8VNa3",
        "outputId": "b89b117a-cf1f-4d37-859d-0df655741b3d"
      },
      "execution_count": 15,
      "outputs": [
        {
          "output_type": "stream",
          "name": "stdout",
          "text": [
            "The train directory has 8202 samples\n",
            "The validation directory has 2055 samples\n",
            "Which in total makes it 10257 samples\n"
          ]
        }
      ]
    },
    {
      "cell_type": "markdown",
      "source": [
        "# Preprocess Data"
      ],
      "metadata": {
        "id": "Rx8svLuTeDio"
      }
    },
    {
      "cell_type": "code",
      "source": [],
      "metadata": {
        "id": "B6WhbKkYVoFs"
      },
      "execution_count": null,
      "outputs": []
    }
  ]
}